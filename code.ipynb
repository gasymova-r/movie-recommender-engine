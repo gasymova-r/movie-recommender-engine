{
 "cells": [
  {
   "cell_type": "markdown",
   "id": "db19751c",
   "metadata": {},
   "source": [
    "# Building an Movie Recommendation System"
   ]
  },
  {
   "cell_type": "markdown",
   "id": "c2e43589",
   "metadata": {},
   "source": [
    "# Preprocessing"
   ]
  },
  {
   "cell_type": "code",
   "execution_count": 4,
   "id": "0d7fa5f1",
   "metadata": {},
   "outputs": [],
   "source": [
    "# import necessary libraries\n",
    "import random\n",
    "import warnings\n",
    "import pandas as pd\n",
    "import numpy as np\n",
    "import seaborn as sns\n",
    "from IPython.display import clear_output\n",
    "import matplotlib.pyplot as plt\n",
    "from wordcloud import WordCloud\n",
    "from sklearn.feature_extraction.text import TfidfVectorizer\n",
    "from sklearn.metrics.pairwise import linear_kernel\n",
    "from sklearn.model_selection import train_test_split, StratifiedKFold, cross_validate\n",
    "from sklearn.naive_bayes import BernoulliNB, MultinomialNB\n",
    "from sklearn.metrics import confusion_matrix, classification_report, roc_auc_score\n",
    "from sklearn.preprocessing import StandardScaler\n",
    "from sklearn.preprocessing import OrdinalEncoder, LabelEncoder, OneHotEncoder\n",
    "from surprise import Reader, Dataset, SVD, KNNBasic, KNNWithMeans, KNNBaseline, KNNWithZScore\n",
    "from surprise.model_selection import cross_validate\n",
    "\n",
    "#ignore warnings\n",
    "warnings.filterwarnings(\"ignore\")"
   ]
  },
  {
   "cell_type": "code",
   "execution_count": 5,
   "id": "34c35793",
   "metadata": {},
   "outputs": [],
   "source": [
    "# import datasets\n",
    "movies=pd.read_csv('movies.csv')\n",
    "ratings=pd.read_csv('ratings.csv')"
   ]
  },
  {
   "cell_type": "code",
   "execution_count": 6,
   "id": "50286635",
   "metadata": {},
   "outputs": [
    {
     "name": "stdout",
     "output_type": "stream",
     "text": [
      "<class 'pandas.core.frame.DataFrame'>\n",
      "RangeIndex: 62423 entries, 0 to 62422\n",
      "Data columns (total 3 columns):\n",
      " #   Column   Non-Null Count  Dtype \n",
      "---  ------   --------------  ----- \n",
      " 0   movieId  62423 non-null  int64 \n",
      " 1   title    62423 non-null  object\n",
      " 2   genres   62423 non-null  object\n",
      "dtypes: int64(1), object(2)\n",
      "memory usage: 1.4+ MB\n"
     ]
    }
   ],
   "source": [
    "movies.info() # 62k+ movies"
   ]
  },
  {
   "cell_type": "code",
   "execution_count": 7,
   "id": "11615949",
   "metadata": {},
   "outputs": [
    {
     "name": "stdout",
     "output_type": "stream",
     "text": [
      "<class 'pandas.core.frame.DataFrame'>\n",
      "RangeIndex: 25000095 entries, 0 to 25000094\n",
      "Data columns (total 4 columns):\n",
      " #   Column     Dtype  \n",
      "---  ------     -----  \n",
      " 0   userId     int64  \n",
      " 1   movieId    int64  \n",
      " 2   rating     float64\n",
      " 3   timestamp  int64  \n",
      "dtypes: float64(1), int64(3)\n",
      "memory usage: 762.9 MB\n"
     ]
    }
   ],
   "source": [
    "ratings.info() # 25 million ratings"
   ]
  },
  {
   "cell_type": "code",
   "execution_count": 8,
   "id": "2c6fbdf9",
   "metadata": {},
   "outputs": [
    {
     "data": {
      "text/plain": [
       "(62423, 3)"
      ]
     },
     "execution_count": 8,
     "metadata": {},
     "output_type": "execute_result"
    }
   ],
   "source": [
    "movies.shape"
   ]
  },
  {
   "cell_type": "code",
   "execution_count": 9,
   "id": "70f06823",
   "metadata": {},
   "outputs": [
    {
     "data": {
      "text/plain": [
       "(25000095, 4)"
      ]
     },
     "execution_count": 9,
     "metadata": {},
     "output_type": "execute_result"
    }
   ],
   "source": [
    "ratings.shape"
   ]
  },
  {
   "cell_type": "code",
   "execution_count": 10,
   "id": "f309d277",
   "metadata": {
    "scrolled": true
   },
   "outputs": [
    {
     "data": {
      "text/html": [
       "<div>\n",
       "<style scoped>\n",
       "    .dataframe tbody tr th:only-of-type {\n",
       "        vertical-align: middle;\n",
       "    }\n",
       "\n",
       "    .dataframe tbody tr th {\n",
       "        vertical-align: top;\n",
       "    }\n",
       "\n",
       "    .dataframe thead th {\n",
       "        text-align: right;\n",
       "    }\n",
       "</style>\n",
       "<table border=\"1\" class=\"dataframe\">\n",
       "  <thead>\n",
       "    <tr style=\"text-align: right;\">\n",
       "      <th></th>\n",
       "      <th>userId</th>\n",
       "      <th>movieId</th>\n",
       "      <th>rating</th>\n",
       "      <th>timestamp</th>\n",
       "      <th>title</th>\n",
       "      <th>genres</th>\n",
       "    </tr>\n",
       "  </thead>\n",
       "  <tbody>\n",
       "    <tr>\n",
       "      <th>0</th>\n",
       "      <td>1</td>\n",
       "      <td>296</td>\n",
       "      <td>5.0</td>\n",
       "      <td>1147880044</td>\n",
       "      <td>Pulp Fiction (1994)</td>\n",
       "      <td>Comedy|Crime|Drama|Thriller</td>\n",
       "    </tr>\n",
       "    <tr>\n",
       "      <th>1</th>\n",
       "      <td>1</td>\n",
       "      <td>306</td>\n",
       "      <td>3.5</td>\n",
       "      <td>1147868817</td>\n",
       "      <td>Three Colors: Red (Trois couleurs: Rouge) (1994)</td>\n",
       "      <td>Drama</td>\n",
       "    </tr>\n",
       "    <tr>\n",
       "      <th>2</th>\n",
       "      <td>1</td>\n",
       "      <td>307</td>\n",
       "      <td>5.0</td>\n",
       "      <td>1147868828</td>\n",
       "      <td>Three Colors: Blue (Trois couleurs: Bleu) (1993)</td>\n",
       "      <td>Drama</td>\n",
       "    </tr>\n",
       "    <tr>\n",
       "      <th>3</th>\n",
       "      <td>1</td>\n",
       "      <td>665</td>\n",
       "      <td>5.0</td>\n",
       "      <td>1147878820</td>\n",
       "      <td>Underground (1995)</td>\n",
       "      <td>Comedy|Drama|War</td>\n",
       "    </tr>\n",
       "    <tr>\n",
       "      <th>4</th>\n",
       "      <td>1</td>\n",
       "      <td>899</td>\n",
       "      <td>3.5</td>\n",
       "      <td>1147868510</td>\n",
       "      <td>Singin' in the Rain (1952)</td>\n",
       "      <td>Comedy|Musical|Romance</td>\n",
       "    </tr>\n",
       "  </tbody>\n",
       "</table>\n",
       "</div>"
      ],
      "text/plain": [
       "   userId  movieId  rating   timestamp  \\\n",
       "0       1      296     5.0  1147880044   \n",
       "1       1      306     3.5  1147868817   \n",
       "2       1      307     5.0  1147868828   \n",
       "3       1      665     5.0  1147878820   \n",
       "4       1      899     3.5  1147868510   \n",
       "\n",
       "                                              title  \\\n",
       "0                               Pulp Fiction (1994)   \n",
       "1  Three Colors: Red (Trois couleurs: Rouge) (1994)   \n",
       "2  Three Colors: Blue (Trois couleurs: Bleu) (1993)   \n",
       "3                                Underground (1995)   \n",
       "4                        Singin' in the Rain (1952)   \n",
       "\n",
       "                        genres  \n",
       "0  Comedy|Crime|Drama|Thriller  \n",
       "1                        Drama  \n",
       "2                        Drama  \n",
       "3             Comedy|Drama|War  \n",
       "4       Comedy|Musical|Romance  "
      ]
     },
     "execution_count": 10,
     "metadata": {},
     "output_type": "execute_result"
    }
   ],
   "source": [
    "df = pd.merge(ratings, movies, how='left', on='movieId') # merged dataset\n",
    "df.head()"
   ]
  },
  {
   "cell_type": "markdown",
   "id": "0476008f",
   "metadata": {},
   "source": [
    "# Exploratory Analysis"
   ]
  },
  {
   "cell_type": "code",
   "execution_count": 11,
   "id": "1d601aa0",
   "metadata": {},
   "outputs": [
    {
     "data": {
      "text/html": [
       "<div>\n",
       "<style scoped>\n",
       "    .dataframe tbody tr th:only-of-type {\n",
       "        vertical-align: middle;\n",
       "    }\n",
       "\n",
       "    .dataframe tbody tr th {\n",
       "        vertical-align: top;\n",
       "    }\n",
       "\n",
       "    .dataframe thead th {\n",
       "        text-align: right;\n",
       "    }\n",
       "</style>\n",
       "<table border=\"1\" class=\"dataframe\">\n",
       "  <thead>\n",
       "    <tr style=\"text-align: right;\">\n",
       "      <th></th>\n",
       "      <th>userId</th>\n",
       "      <th>movieId</th>\n",
       "      <th>rating</th>\n",
       "      <th>timestamp</th>\n",
       "    </tr>\n",
       "  </thead>\n",
       "  <tbody>\n",
       "    <tr>\n",
       "      <th>count</th>\n",
       "      <td>2.500010e+07</td>\n",
       "      <td>2.500010e+07</td>\n",
       "      <td>2.500010e+07</td>\n",
       "      <td>2.500010e+07</td>\n",
       "    </tr>\n",
       "    <tr>\n",
       "      <th>mean</th>\n",
       "      <td>8.118928e+04</td>\n",
       "      <td>2.138798e+04</td>\n",
       "      <td>3.533854e+00</td>\n",
       "      <td>1.215601e+09</td>\n",
       "    </tr>\n",
       "    <tr>\n",
       "      <th>std</th>\n",
       "      <td>4.679172e+04</td>\n",
       "      <td>3.919886e+04</td>\n",
       "      <td>1.060744e+00</td>\n",
       "      <td>2.268758e+08</td>\n",
       "    </tr>\n",
       "    <tr>\n",
       "      <th>min</th>\n",
       "      <td>1.000000e+00</td>\n",
       "      <td>1.000000e+00</td>\n",
       "      <td>5.000000e-01</td>\n",
       "      <td>7.896520e+08</td>\n",
       "    </tr>\n",
       "    <tr>\n",
       "      <th>25%</th>\n",
       "      <td>4.051000e+04</td>\n",
       "      <td>1.196000e+03</td>\n",
       "      <td>3.000000e+00</td>\n",
       "      <td>1.011747e+09</td>\n",
       "    </tr>\n",
       "    <tr>\n",
       "      <th>50%</th>\n",
       "      <td>8.091400e+04</td>\n",
       "      <td>2.947000e+03</td>\n",
       "      <td>3.500000e+00</td>\n",
       "      <td>1.198868e+09</td>\n",
       "    </tr>\n",
       "    <tr>\n",
       "      <th>75%</th>\n",
       "      <td>1.215570e+05</td>\n",
       "      <td>8.623000e+03</td>\n",
       "      <td>4.000000e+00</td>\n",
       "      <td>1.447205e+09</td>\n",
       "    </tr>\n",
       "    <tr>\n",
       "      <th>max</th>\n",
       "      <td>1.625410e+05</td>\n",
       "      <td>2.091710e+05</td>\n",
       "      <td>5.000000e+00</td>\n",
       "      <td>1.574328e+09</td>\n",
       "    </tr>\n",
       "  </tbody>\n",
       "</table>\n",
       "</div>"
      ],
      "text/plain": [
       "             userId       movieId        rating     timestamp\n",
       "count  2.500010e+07  2.500010e+07  2.500010e+07  2.500010e+07\n",
       "mean   8.118928e+04  2.138798e+04  3.533854e+00  1.215601e+09\n",
       "std    4.679172e+04  3.919886e+04  1.060744e+00  2.268758e+08\n",
       "min    1.000000e+00  1.000000e+00  5.000000e-01  7.896520e+08\n",
       "25%    4.051000e+04  1.196000e+03  3.000000e+00  1.011747e+09\n",
       "50%    8.091400e+04  2.947000e+03  3.500000e+00  1.198868e+09\n",
       "75%    1.215570e+05  8.623000e+03  4.000000e+00  1.447205e+09\n",
       "max    1.625410e+05  2.091710e+05  5.000000e+00  1.574328e+09"
      ]
     },
     "execution_count": 11,
     "metadata": {},
     "output_type": "execute_result"
    }
   ],
   "source": [
    "ratings.describe()"
   ]
  },
  {
   "cell_type": "code",
   "execution_count": 9,
   "id": "97f5fdd8",
   "metadata": {
    "scrolled": false
   },
   "outputs": [
    {
     "data": {
      "text/plain": [
       "<AxesSubplot:xlabel='rating', ylabel='Density'>"
      ]
     },
     "execution_count": 9,
     "metadata": {},
     "output_type": "execute_result"
    },
    {
     "data": {
      "image/png": "[encoded data removed]",
      "text/plain": [
       "<Figure size 640x480 with 1 Axes>"
      ]
     },
     "metadata": {},
     "output_type": "display_data"
    }
   ],
   "source": [
    "# display distribution of rating\n",
    "sns.set_style('darkgrid')\n",
    "sns.set(font_scale=1.5)\n",
    "%matplotlib inline\n",
    "\n",
    "sns.distplot(ratings['rating'].fillna(ratings['rating'].median()))"
   ]
  },
  {
   "cell_type": "markdown",
   "id": "5ae0d1ec",
   "metadata": {},
   "source": [
    "# Content based filtering\n",
    "Here we build a recommendation engine that computes similarities between the movies based on genres.\n",
    "TF-IDF determines the importance of an item based on its frequency.\n",
    "Using cosine similarity we can determine which items are closer to each other."
   ]
  },
  {
   "cell_type": "code",
   "execution_count": 10,
   "id": "61cb88d0",
   "metadata": {},
   "outputs": [],
   "source": [
    "cv = TfidfVectorizer()\n",
    "tfidf_matrix = cv.fit_transform(movies['genres'])"
   ]
  },
  {
   "cell_type": "code",
   "execution_count": 11,
   "id": "b7e4528f",
   "metadata": {},
   "outputs": [],
   "source": [
    "cosine_sim = linear_kernel(tfidf_matrix, tfidf_matrix)"
   ]
  },
  {
   "cell_type": "code",
   "execution_count": 12,
   "id": "619c4ea2",
   "metadata": {},
   "outputs": [],
   "source": [
    "# basic recommendations function\n",
    "indices = pd.Series(movies.index,index=movies['title'])\n",
    "titles = movies['title']\n",
    "def recommendations(title):\n",
    "    idx = indices[title]\n",
    "    sim = list(enumerate(cosine_sim[idx]))\n",
    "    sim = sorted(sim, key=lambda x: x[1], reverse=True)\n",
    "    sim = sim[1:21]\n",
    "    movie_indices = [i[0] for i in sim]\n",
    "    return titles.iloc[movie_indices]"
   ]
  },
  {
   "cell_type": "code",
   "execution_count": 13,
   "id": "c3ce7e72",
   "metadata": {
    "scrolled": false
   },
   "outputs": [
    {
     "data": {
      "text/plain": [
       "16033                               Gnomeo & Juliet (2011)\n",
       "17686        Puss in Boots (Nagagutsu o haita neko) (1969)\n",
       "0                                         Toy Story (1995)\n",
       "2203                                           Antz (1998)\n",
       "3021                                    Toy Story 2 (1999)\n",
       "3653        Adventures of Rocky and Bullwinkle, The (2000)\n",
       "3912                      Emperor's New Groove, The (2000)\n",
       "4780                                 Monsters, Inc. (2001)\n",
       "9949     DuckTales: The Movie - Treasure of the Lost La...\n",
       "10773                                     Wild, The (2006)\n",
       "11604                               Shrek the Third (2007)\n",
       "12969                       Tale of Despereaux, The (2008)\n",
       "17431    Asterix and the Vikings (Astérix et les Viking...\n",
       "20015                                         Turbo (2013)\n",
       "22286                                       Aladdin (1992)\n",
       "22353                                Boxtrolls, The (2014)\n",
       "22633            Toy Story Toons: Hawaiian Vacation (2011)\n",
       "22634                    Toy Story Toons: Small Fry (2011)\n",
       "23212                             The Magic Crystal (2011)\n",
       "28245                                Brother Bear 2 (2006)\n",
       "Name: title, dtype: object"
      ]
     },
     "execution_count": 13,
     "metadata": {},
     "output_type": "execute_result"
    }
   ],
   "source": [
    "recommendations('Shrek (2001)')"
   ]
  },
  {
   "cell_type": "code",
   "execution_count": 14,
   "id": "c5f7e664",
   "metadata": {},
   "outputs": [],
   "source": [
    "# **ADDING USER INTERACTION**"
   ]
  },
  {
   "cell_type": "code",
   "execution_count": 15,
   "id": "b98e2700",
   "metadata": {},
   "outputs": [],
   "source": [
    "# idea: only ask about movies that received higher average rankings\n",
    "# otherwise there too many possibilities (we could only ask about movies that are very unpopular and not-known)\n",
    "high_ranking_movies = df.groupby(['title']).mean().sort_values(by=['rating'], ascending=False).head(1000).reset_index()\n",
    "ranking_titles = high_ranking_movies['title']"
   ]
  },
  {
   "cell_type": "code",
   "execution_count": 16,
   "id": "8e392d0d",
   "metadata": {},
   "outputs": [],
   "source": [
    "def get_random_movie():\n",
    "    rand = random.randint(0, 1000)\n",
    "    return ranking_titles.iloc[rand]"
   ]
  },
  {
   "cell_type": "code",
   "execution_count": 17,
   "id": "7b1fdec7",
   "metadata": {},
   "outputs": [],
   "source": [
    "# get a random movie out of 20 most likely to be liked\n",
    "# print its name and how likely you are to like it\n",
    "def get_random_recommendations(title):\n",
    "    idx = indices[title]\n",
    "    sim = list(enumerate(cosine_sim[idx]))\n",
    "    sim = sorted(sim, key=lambda x: x[1], reverse=True)\n",
    "    rand = random.randint(1, 21)\n",
    "    sim = sim[rand]\n",
    "    movie_indices = sim[0]\n",
    "    movie_predictions = sim[1]\n",
    "    print(f\"If you liked {title}, you might also like {titles.iloc[movie_indices]} (with {movie_predictions*100:.1f}% accuracy)\\n\") "
   ]
  },
  {
   "cell_type": "code",
   "execution_count": 20,
   "id": "a29fa895",
   "metadata": {},
   "outputs": [
    {
     "name": "stdout",
     "output_type": "stream",
     "text": [
      ">> Did you like Céline (1992)?\n",
      "\n",
      "Print y/n. \n",
      "y\n",
      "If you liked Céline (1992), you might also like Restoration (1995) (with 100.0% accuracy)\n",
      "\n",
      ">> Are you going to watch this movie? (y/n) \n",
      "\n",
      "y\n",
      ">> Enjoy the movie! \n"
     ]
    }
   ],
   "source": [
    "while True:\n",
    "    rand_movie = get_random_movie()\n",
    "    liked = input(f\">> Did you like {rand_movie}?\\n\\nPrint y/n. \\n\")\n",
    "    if liked == \"n\":\n",
    "        clear_output()\n",
    "        continue\n",
    "    else:\n",
    "        while True:\n",
    "            get_random_recommendations(rand_movie)\n",
    "            if input(f\">> Are you going to watch this movie? (y/n) \\n\\n\") != \"y\":\n",
    "                continue\n",
    "            else:\n",
    "                print(\">> Enjoy the movie! \")\n",
    "                break \n",
    "        break"
   ]
  },
  {
   "cell_type": "markdown",
   "id": "e87d9176",
   "metadata": {},
   "source": [
    "Seems to work, recommending movies of similar genre.\n",
    "\n",
    "**Drawback**: Only recommends similar movies, doesn't capture tastes of a particular user."
   ]
  },
  {
   "cell_type": "markdown",
   "id": "0eaddec6",
   "metadata": {},
   "source": [
    "# Collaborative Filtering Recommendation Model"
   ]
  },
  {
   "cell_type": "code",
   "execution_count": 18,
   "id": "27580524",
   "metadata": {},
   "outputs": [],
   "source": [
    "# CHOOSING MODEL WITH CROSS VALIDATION"
   ]
  },
  {
   "cell_type": "code",
   "execution_count": 19,
   "id": "67b8eaf1",
   "metadata": {},
   "outputs": [],
   "source": [
    "reader = Reader(line_format=u'rating user item', sep=',', rating_scale=(1, 6), skip_lines=1)"
   ]
  },
  {
   "cell_type": "code",
   "execution_count": 20,
   "id": "b2ffd293",
   "metadata": {},
   "outputs": [
    {
     "data": {
      "text/plain": [
       "(100000, 3)"
      ]
     },
     "execution_count": 20,
     "metadata": {},
     "output_type": "execute_result"
    }
   ],
   "source": [
    "ratings=pd.read_csv('ratings.csv')\n",
    "small_ratings = ratings.sample(frac=0.004).drop(['timestamp'], axis=1)\n",
    "small_ratings.shape"
   ]
  },
  {
   "cell_type": "code",
   "execution_count": 21,
   "id": "63f6719c",
   "metadata": {},
   "outputs": [],
   "source": [
    "ratings = Dataset.load_from_df(small_ratings[['userId', 'movieId', 'rating']][:], reader)"
   ]
  },
  {
   "cell_type": "code",
   "execution_count": 22,
   "id": "1526fd95",
   "metadata": {},
   "outputs": [],
   "source": [
    "# Item based collaborative filtering with KNN"
   ]
  },
  {
   "cell_type": "code",
   "execution_count": 25,
   "id": "10efe121",
   "metadata": {},
   "outputs": [
    {
     "name": "stdout",
     "output_type": "stream",
     "text": [
      "Computing the msd similarity matrix...\n",
      "Done computing similarity matrix.\n",
      "Computing the msd similarity matrix...\n",
      "Done computing similarity matrix.\n",
      "Computing the msd similarity matrix...\n",
      "Done computing similarity matrix.\n",
      "Evaluating RMSE, MAE of algorithm KNNBasic on 3 split(s).\n",
      "\n",
      "                  Fold 1  Fold 2  Fold 3  Mean    Std     \n",
      "RMSE (testset)    1.0623  1.0636  1.0618  1.0626  0.0008  \n",
      "MAE (testset)     0.8437  0.8438  0.8418  0.8431  0.0009  \n",
      "Fit time          27.48   28.52   27.44   27.81   0.50    \n",
      "Test time         1.13    1.00    1.02    1.05    0.06    \n"
     ]
    },
    {
     "data": {
      "text/plain": [
       "{'test_rmse': array([1.0622777 , 1.06362217, 1.06178661]),\n",
       " 'test_mae': array([0.84368718, 0.84380173, 0.84181946]),\n",
       " 'fit_time': (27.477945804595947, 28.522589921951294, 27.441742658615112),\n",
       " 'test_time': (1.1287753582000732, 0.9957361221313477, 1.0167748928070068)}"
      ]
     },
     "execution_count": 25,
     "metadata": {},
     "output_type": "execute_result"
    }
   ],
   "source": [
    "cross_validate(KNNBasic(), ratings, measures=['RMSE', 'MAE'], cv=3, verbose=True)"
   ]
  },
  {
   "cell_type": "markdown",
   "id": "d4cd604c",
   "metadata": {},
   "source": [
    "Tested other KNN Models from the Surprise library (but my computer could not recompute them again). Their score were around the same."
   ]
  },
  {
   "cell_type": "code",
   "execution_count": 26,
   "id": "9b57928c",
   "metadata": {},
   "outputs": [],
   "source": [
    "# User Based Collaborative filtering with SVD"
   ]
  },
  {
   "cell_type": "markdown",
   "id": "ad788d95",
   "metadata": {},
   "source": [
    "Users similar to each other in taste can be used to make predictions. Model-based Collaborative Filtering is based on matrix factorization - SVD."
   ]
  },
  {
   "cell_type": "code",
   "execution_count": 27,
   "id": "241221aa",
   "metadata": {},
   "outputs": [],
   "source": [
    "svd = SVD()"
   ]
  },
  {
   "cell_type": "code",
   "execution_count": 28,
   "id": "4fcdab8c",
   "metadata": {},
   "outputs": [
    {
     "name": "stdout",
     "output_type": "stream",
     "text": [
      "Evaluating RMSE, MAE of algorithm SVD on 3 split(s).\n",
      "\n",
      "                  Fold 1  Fold 2  Fold 3  Mean    Std     \n",
      "RMSE (testset)    0.9847  0.9749  0.9736  0.9777  0.0049  \n",
      "MAE (testset)     0.7647  0.7565  0.7552  0.7588  0.0042  \n",
      "Fit time          0.81    0.68    0.67    0.72    0.06    \n",
      "Test time         0.14    0.13    0.13    0.13    0.00    \n"
     ]
    },
    {
     "data": {
      "text/plain": [
       "{'test_rmse': array([0.98465022, 0.97487906, 0.9736169 ]),\n",
       " 'test_mae': array([0.76465057, 0.75649912, 0.75517146]),\n",
       " 'fit_time': (0.8078680038452148, 0.6834521293640137, 0.6726078987121582),\n",
       " 'test_time': (0.13535594940185547, 0.13234782218933105, 0.13183212280273438)}"
      ]
     },
     "execution_count": 28,
     "metadata": {},
     "output_type": "execute_result"
    }
   ],
   "source": [
    "cross_validate(svd, ratings, measures=['RMSE', 'MAE'], cv=3, verbose=True)"
   ]
  },
  {
   "cell_type": "markdown",
   "id": "be3d65b4",
   "metadata": {},
   "source": [
    "**RMSE is quite high**, but it **goes down the bigger the sample** (cannot make it too big during cross-validation based on computational restrictions).\n",
    "\n",
    "**SVD (user-based recommendation) shows the lowest RMSE**, thus, it is chosen for building the Recommender."
   ]
  },
  {
   "cell_type": "markdown",
   "id": "4424029b",
   "metadata": {},
   "source": [
    "# Building a Recommender System with SVD"
   ]
  },
  {
   "cell_type": "code",
   "execution_count": 29,
   "id": "5f95d1fd",
   "metadata": {},
   "outputs": [],
   "source": [
    "ratings=pd.read_csv('ratings.csv')\n",
    "small_ratings = ratings.sample(frac=0.25).drop(['timestamp'], axis=1)"
   ]
  },
  {
   "cell_type": "code",
   "execution_count": 30,
   "id": "da3a0adc",
   "metadata": {},
   "outputs": [],
   "source": [
    "last_user = small_ratings['userId'].max()"
   ]
  },
  {
   "cell_type": "code",
   "execution_count": 31,
   "id": "ffdce683",
   "metadata": {},
   "outputs": [],
   "source": [
    "def get_random_id_and_movie():\n",
    "    rand = random.randint(0, 62423)\n",
    "    return rand, titles.iloc[rand]"
   ]
  },
  {
   "cell_type": "code",
   "execution_count": 32,
   "id": "c9a7781b",
   "metadata": {},
   "outputs": [],
   "source": [
    "def create_new_user(new_id):\n",
    "    n_inputs = 0\n",
    "    while n_inputs < 5: # can change for better accuracy \n",
    "        movie_id, movie = get_random_id_and_movie()\n",
    "        rating = input(f\"How would you rate the movie {movie}? (rating/-)\")\n",
    "        if rating != '-':\n",
    "            small_ratings.append([new_id, movie_id, rating])\n",
    "            n_inputs+=1\n",
    "    print(f\"You are now a user. Your id is {new_id}! \")"
   ]
  },
  {
   "cell_type": "code",
   "execution_count": 33,
   "id": "5a9f7055",
   "metadata": {},
   "outputs": [],
   "source": [
    "def make_recommendations(user_id):\n",
    "    user_data = movies.copy()\n",
    "    user_data = user_data.reset_index()\n",
    "    \n",
    "    data = Dataset.load_from_df(small_ratings[['userId', 'movieId', 'rating']][:], reader)\n",
    "\n",
    "    trainset = data.build_full_trainset()\n",
    "    print(\"Please wait for you recommendations...\")\n",
    "    svd.fit(trainset)\n",
    "\n",
    "    user_data[\"Estimate_Score\"] = user_data['movieId'].apply(lambda x: svd.predict(user_id, x).est)\n",
    "\n",
    "    user_data = user_data.drop(\"movieId\", axis = 1)\n",
    "\n",
    "    user_data = user_data.sort_values(\"Estimate_Score\", ascending=False) \n",
    "    print(user_data.head(10))"
   ]
  },
  {
   "cell_type": "code",
   "execution_count": 34,
   "id": "d997cddf",
   "metadata": {
    "scrolled": true
   },
   "outputs": [
    {
     "name": "stdout",
     "output_type": "stream",
     "text": [
      "Are you a new user? (y/n) y\n",
      "Welcome!\n",
      "First, tell us more about your preferences. \n",
      "How would you rate the movie Fortini/Cani (1977)? (rating/-)-\n",
      "How would you rate the movie A Lovely Way to Die (1968)? (rating/-)-\n",
      "How would you rate the movie Baba Yaga (1971)? (rating/-)4\n",
      "How would you rate the movie Shaka Zulu (1986)? (rating/-)-\n",
      "How would you rate the movie Sabotage (1936)? (rating/-)-\n",
      "How would you rate the movie 12 Days (2017)? (rating/-)5\n",
      "How would you rate the movie Slave of Love, A (Raba lyubvi) (1976)? (rating/-)-\n",
      "How would you rate the movie The End of Time (2012)? (rating/-)4\n",
      "How would you rate the movie Princess O'Rourke (1943)? (rating/-)-\n",
      "How would you rate the movie Scream 4 (2011)? (rating/-)5\n",
      "How would you rate the movie Final Fantasy: The Spirits Within (2001)? (rating/-)5\n",
      "You are now a user. Your id is 162542! \n",
      "Are you a new user? (y/n) n\n",
      "Input your id: 162542\n",
      "Here are your recommendations:\n",
      "Please wait for you recommendations...\n",
      "       index                                     title              genres  \\\n",
      "45741  45741                    Planet Earth II (2016)         Documentary   \n",
      "40597  40597                       Planet Earth (2006)         Documentary   \n",
      "40598  40598                               Life (2009)         Documentary   \n",
      "19611  19611  Death on the Staircase (Soupçons) (2004)   Crime|Documentary   \n",
      "45593  45593                   Band of Brothers (2001)    Action|Drama|War   \n",
      "8942    8942          Close-Up (Nema-ye Nazdik) (1990)               Drama   \n",
      "22377  22377               Look of Silence, The (2014)         Documentary   \n",
      "51245  51245               Cosmos: A Spacetime Odissey  (no genres listed)   \n",
      "314      314          Shawshank Redemption, The (1994)         Crime|Drama   \n",
      "58237  58237                         Twin Peaks (1989)       Drama|Mystery   \n",
      "\n",
      "       Estimate_Score  \n",
      "45741        4.491781  \n",
      "40597        4.474936  \n",
      "40598        4.443903  \n",
      "19611        4.443118  \n",
      "45593        4.431709  \n",
      "8942         4.420462  \n",
      "22377        4.419575  \n",
      "51245        4.410744  \n",
      "314          4.410029  \n",
      "58237        4.404622  \n"
     ]
    }
   ],
   "source": [
    "while True:\n",
    "    if input(\"Are you a new user? (y/n) \") == \"y\":\n",
    "        print(f\"Welcome!\\nFirst, tell us more about your preferences. \")\n",
    "        last_user = small_ratings['userId'].max()\n",
    "        create_new_user(last_user+1)\n",
    "    else:\n",
    "        user_id = int(input(\"Input your id: \"))\n",
    "        print(\"Here are your recommendations:\")\n",
    "        make_recommendations(user_id)\n",
    "        break"
   ]
  }
 ],
 "metadata": {
  "kernelspec": {
   "display_name": "Python 3 (ipykernel)",
   "language": "python",
   "name": "python3"
  },
  "language_info": {
   "codemirror_mode": {
    "name": "ipython",
    "version": 3
   },
   "file_extension": ".py",
   "mimetype": "text/x-python",
   "name": "python",
   "nbconvert_exporter": "python",
   "pygments_lexer": "ipython3",
   "version": "3.9.13"
  }
 },
 "nbformat": 4,
 "nbformat_minor": 5
}
